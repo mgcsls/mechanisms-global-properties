{
 "cells": [
  {
   "cell_type": "markdown",
   "metadata": {},
   "source": [
    "# UCI Machine Learning Adult dataset\n",
    "\n",
    "Implementation of variants of Expected Value Mechanism.\n",
    "\n",
    "MIT License\n",
    "Copyright (C) 2022\n",
    "\n",
    "Dataset can be downloaded from https://archive.ics.uci.edu/ml/datasets/adult"
   ]
  },
  {
   "cell_type": "code",
   "execution_count": 1,
   "metadata": {},
   "outputs": [
    {
     "name": "stdout",
     "output_type": "stream",
     "text": [
      "(45222, 15)\n"
     ]
    }
   ],
   "source": [
    "import pandas as pd\n",
    "import numpy as np\n",
    "import time\n",
    "\n",
    "filename_train = 'data/adult_train.csv'\n",
    "filename_test = 'data/adult_test.csv'\n",
    "\n",
    "data_train = pd.read_csv(filename_train, header=None, na_values=' ?')\n",
    "data_test = pd.read_csv(filename_test, header=None, na_values=' ?', skiprows=1)\n",
    "\n",
    "data_all = pd.concat([data_train, data_test], axis=0, ignore_index=True)\n",
    "data_all = data_all.dropna()\n",
    "print(data_all.shape)"
   ]
  },
  {
   "cell_type": "code",
   "execution_count": 2,
   "metadata": {},
   "outputs": [],
   "source": [
    "NUM_DATA_SHADOW = 100\n",
    "NUM_DATA_TEST = 100\n",
    "\n",
    "MINI_DATASET_SIZE = 100"
   ]
  },
  {
   "cell_type": "code",
   "execution_count": 3,
   "metadata": {},
   "outputs": [],
   "source": [
    "# sensitive attributes: Income, Workclass\n",
    "INCOME_INDEX = 14\n",
    "WORKCLASS_INDEX = 1\n",
    "# possible tasks\n",
    "AGE_INDEX = 0\n",
    "EDUCATION_YEARS_INDEX = 4\n",
    "MARITAL_STATUS_INDEX = 5\n",
    "SEX_INDEX = 9\n",
    "HOURS_INDEX = 12\n",
    "\n",
    "data_high_income = data_all[data_all[INCOME_INDEX].isin([' >50K', ' >50K.'])]\n",
    "data_low_income = data_all[data_all[INCOME_INDEX].isin([' <=50K', ' <=50K.'])]\n",
    "\n",
    "# data_high_income = data_all[data_all[WORKCLASS_INDEX] == ' Private']\n",
    "# data_low_income = data_all[data_all[WORKCLASS_INDEX] != ' Private']\n",
    "\n",
    "sens_att = 'I'\n",
    "def set_sens_att(sens_att_val):\n",
    "    sens_att = sens_att_val\n",
    "    if sens_att == 'I':\n",
    "        data_high_income = data_all[data_all[INCOME_INDEX].isin([' >50K', ' >50K.'])]\n",
    "        data_low_income = data_all[data_all[INCOME_INDEX].isin([' <=50K', ' <=50K.'])]\n",
    "    else:\n",
    "        data_high_income = data_all[data_all[WORKCLASS_INDEX] == ' Private']\n",
    "        data_low_income = data_all[data_all[WORKCLASS_INDEX] != ' Private']\n",
    "    \n",
    "    return sens_att, data_high_income, data_low_income"
   ]
  },
  {
   "cell_type": "code",
   "execution_count": 4,
   "metadata": {},
   "outputs": [
    {
     "name": "stdout",
     "output_type": "stream",
     "text": [
      "11208 34014 45222\n"
     ]
    }
   ],
   "source": [
    "print(data_high_income.shape[0], data_low_income.shape[0], data_high_income.shape[0] + data_low_income.shape[0])"
   ]
  },
  {
   "cell_type": "code",
   "execution_count": 5,
   "metadata": {},
   "outputs": [],
   "source": [
    "SAMPLE_SIZE = MINI_DATASET_SIZE\n",
    "# HIGH_INCOME_RATIO1 = 0.4\n",
    "# HIGH_INCOME_RATIO2 = 0.6\n",
    "\n",
    "# # data_theta a dataframe of records\n",
    "# # sample a sub-dataset from data_theta\n",
    "# # and returns some statistics, e.g. average age, num females, etc.\n",
    "# def get_data(data_theta):\n",
    "#     sample = data_theta.sample(SAMPLE_SIZE)\n",
    "\n",
    "#     data = []\n",
    "#     data.append(np.mean(sample[AGE_INDEX]))\n",
    "#     data.append(np.mean(sample[EDUCATION_YEARS_INDEX]))\n",
    "#     data.append(sample[SEX_INDEX].value_counts()[' Female'])\n",
    "#     data.append(np.mean(sample[HOURS_INDEX]))\n",
    "\n",
    "#     return np.array(data)\n",
    "\n",
    "def get_data(data_hi, data_lo, hi_ratio):\n",
    "    num_hi = round(hi_ratio * SAMPLE_SIZE)\n",
    "    num_lo = SAMPLE_SIZE - num_hi\n",
    "\n",
    "#     start = time.time()\n",
    "    \n",
    "    sample_hi = data_hi.sample(num_hi)\n",
    "    sample_lo = data_lo.sample(num_lo)\n",
    "    sample = pd.concat([sample_hi, sample_lo], ignore_index = True)\n",
    "    \n",
    "#     end = time.time()\n",
    "#     print(end - start)\n",
    "    \n",
    "#     start = time.time()\n",
    "\n",
    "    data = []\n",
    "    data.append(np.mean(sample[AGE_INDEX]))\n",
    "    data.append(np.mean(sample[EDUCATION_YEARS_INDEX]))\n",
    "    \n",
    "    ms_counts = sample[MARITAL_STATUS_INDEX].value_counts()\n",
    "    if ' Never-married' in ms_counts.keys():\n",
    "        data.append(ms_counts[' Never-married'])\n",
    "    else:\n",
    "        data.append(0)\n",
    "    \n",
    "    s_counts = sample[SEX_INDEX].value_counts()\n",
    "    if ' Female' in s_counts.keys():\n",
    "        data.append(s_counts[' Female'])\n",
    "    else:\n",
    "        data.append(0)\n",
    "\n",
    "    data.append(np.mean(sample[HOURS_INDEX]))\n",
    "\n",
    "#     end = time.time()\n",
    "#     print(end - start)\n",
    "\n",
    "    return np.array(data)"
   ]
  },
  {
   "cell_type": "code",
   "execution_count": 6,
   "metadata": {},
   "outputs": [
    {
     "data": {
      "text/plain": [
       "array([38.69, 10.54, 24.  , 32.  , 41.09])"
      ]
     },
     "execution_count": 6,
     "metadata": {},
     "output_type": "execute_result"
    }
   ],
   "source": [
    "get_data(data_high_income, data_low_income, 0.4)"
   ]
  },
  {
   "cell_type": "code",
   "execution_count": 7,
   "metadata": {},
   "outputs": [
    {
     "data": {
      "text/plain": [
       "array([42.96, 10.73, 23.  , 28.  , 41.51])"
      ]
     },
     "execution_count": 7,
     "metadata": {},
     "output_type": "execute_result"
    }
   ],
   "source": [
    "get_data(data_high_income, data_low_income, 0.6)"
   ]
  },
  {
   "cell_type": "markdown",
   "metadata": {},
   "source": [
    "## Property inference attack"
   ]
  },
  {
   "cell_type": "code",
   "execution_count": 9,
   "metadata": {},
   "outputs": [],
   "source": [
    "from sklearn.linear_model import LogisticRegression\n",
    "from sklearn.model_selection import train_test_split\n",
    "\n",
    "# NUM_DATA_SHADOW_AUX = 5000\n",
    "SHADOW_EVALUTATION_REPS = 2\n",
    "\n",
    "def evaluate_shadow_clf(p1, p2):\n",
    "    accuracies = []\n",
    "    \n",
    "    for _ in range(SHADOW_EVALUTATION_REPS):       \n",
    "        shadow_data_hi, test_data_hi = train_test_split(data_high_income, test_size=0.33)\n",
    "        shadow_data_lo, test_data_lo = train_test_split(data_low_income, test_size=0.33)\n",
    "        \n",
    "        features_shadow = []\n",
    "        features_test = []\n",
    "        labels_shadow = []\n",
    "        labels_test = []\n",
    "        \n",
    "#         start = time.time()\n",
    "        \n",
    "        for _ in range(NUM_DATA_SHADOW):\n",
    "            features_shadow.append(get_data(shadow_data_hi, shadow_data_lo, p1))\n",
    "            labels_shadow.append(1)\n",
    "            features_shadow.append(get_data(shadow_data_hi, shadow_data_lo, p2))\n",
    "            labels_shadow.append(2)\n",
    "\n",
    "        for _ in range(NUM_DATA_TEST):\n",
    "            features_test.append(get_data(test_data_hi, test_data_lo, p1))\n",
    "            labels_test.append(1)\n",
    "            features_test.append(get_data(test_data_hi, test_data_lo, p2))\n",
    "            labels_test.append(2)\n",
    "            \n",
    "#         end = time.time()\n",
    "#         print(end - start)\n",
    "\n",
    "        clf = LogisticRegression().fit(features_shadow, labels_shadow)\n",
    "        accuracies.append(clf.score(features_test, labels_test))\n",
    "\n",
    "    return accuracies"
   ]
  },
  {
   "cell_type": "code",
   "execution_count": 10,
   "metadata": {},
   "outputs": [
    {
     "name": "stdout",
     "output_type": "stream",
     "text": [
      "[0.925, 0.91]\n",
      "time: 2.589740514755249\n"
     ]
    }
   ],
   "source": [
    "start = time.time()\n",
    "print(evaluate_shadow_clf(0.4, 0.6))\n",
    "# print(np.mean(evaluate_shadow_clf(0.4, 0.6)))\n",
    "end = time.time()\n",
    "print(\"time:\", end - start)"
   ]
  },
  {
   "cell_type": "code",
   "execution_count": 126,
   "metadata": {},
   "outputs": [],
   "source": [
    "p_diff_values = np.linspace(0.01, 0.2, 20)\n",
    "attack_p_diff = []\n",
    "for p_diff in p_diff_values:\n",
    "    attack_p_diff.append(evaluate_shadow_clf(0.5 - p_diff, 0.5 + p_diff))"
   ]
  },
  {
   "cell_type": "code",
   "execution_count": 127,
   "metadata": {},
   "outputs": [],
   "source": [
    "# attack_p_diff"
   ]
  },
  {
   "cell_type": "code",
   "execution_count": 129,
   "metadata": {},
   "outputs": [
    {
     "data": {
      "image/png": "[encoded data removed]",
      "text/plain": [
       "<Figure size 432x288 with 1 Axes>"
      ]
     },
     "metadata": {
      "needs_background": "light"
     },
     "output_type": "display_data"
    }
   ],
   "source": [
    "import matplotlib\n",
    "import matplotlib.pyplot as plt\n",
    "\n",
    "plt.clf()\n",
    "\n",
    "plt.plot(2 * p_diff_values, np.mean(attack_p_diff, axis=1), marker='x')\n",
    "plt.xlabel('p diff')\n",
    "plt.ylabel(\"Attack Accuracy\")\n",
    "plt.title(\"Attack Accuracies for Varying P1, P2\")\n",
    "\n",
    "# plt.show()\n",
    "# plt.savefig('attack_accuracies.pgf')\n",
    "\n",
    "import tikzplotlib\n",
    "tikzplotlib.save(\"a_attack_income.tikz\")"
   ]
  },
  {
   "cell_type": "markdown",
   "metadata": {},
   "source": [
    "## Approximating with Gaussians"
   ]
  },
  {
   "cell_type": "code",
   "execution_count": 11,
   "metadata": {},
   "outputs": [],
   "source": [
    "NUM_DATA_POINTS = 1000\n",
    "\n",
    "p1 = 0.45\n",
    "p2 = 0.55\n",
    "\n",
    "data_points_theta1 = []\n",
    "data_points_theta2 = []\n",
    "for _ in range(NUM_DATA_POINTS):\n",
    "    data_points_theta1.append(get_data(data_high_income, data_low_income, p1))\n",
    "    data_points_theta2.append(get_data(data_high_income, data_low_income, p2))\n",
    "\n",
    "data_points_theta1 = pd.DataFrame(data_points_theta1)\n",
    "data_points_theta2 = pd.DataFrame(data_points_theta2)\n",
    "\n",
    "mu1 = data_points_theta1.mean()\n",
    "mu2 = data_points_theta2.mean()\n",
    "cov1 = data_points_theta1.cov()\n",
    "cov2 = data_points_theta2.cov()\n",
    "\n",
    "# data_points_all = pd.concat([data_points_theta1, data_points_theta2], ignore_index=True)\n",
    "cov = (cov1 + cov2) / 2\n",
    "\n",
    "# so that I can repeat experiments without having to rerun the cell...\n",
    "def set_p1p2(p1_val, p2_val):\n",
    "    # global variables\n",
    "    p1 = p1_val\n",
    "    p2 = p2_val\n",
    "\n",
    "    data_points_theta1 = []\n",
    "    data_points_theta2 = []\n",
    "    for _ in range(NUM_DATA_POINTS):\n",
    "        data_points_theta1.append(get_data(data_high_income, data_low_income, p1))\n",
    "        data_points_theta2.append(get_data(data_high_income, data_low_income, p2))\n",
    "\n",
    "    data_points_theta1 = pd.DataFrame(data_points_theta1)\n",
    "    data_points_theta2 = pd.DataFrame(data_points_theta2)\n",
    "\n",
    "    mu1 = data_points_theta1.mean()\n",
    "    mu2 = data_points_theta2.mean()\n",
    "    cov1 = data_points_theta1.cov()\n",
    "    cov2 = data_points_theta2.cov()\n",
    "\n",
    "    # data_points_all = pd.concat([data_points_theta1, data_points_theta2], ignore_index=True)\n",
    "    cov = (cov1 + cov2) / 2\n",
    "    \n",
    "    return p1, p2, data_points_theta1, data_points_theta2, mu1, mu2, cov1, cov2, cov"
   ]
  },
  {
   "cell_type": "code",
   "execution_count": 32,
   "metadata": {},
   "outputs": [
    {
     "name": "stdout",
     "output_type": "stream",
     "text": [
      "40.30\n",
      "10.39\n",
      "28.19\n",
      "30.66\n",
      "41.69\n",
      "\n",
      "39.72\n",
      "10.29\n",
      "29.52\n",
      "31.08\n",
      "41.44\n",
      "\n",
      "W 0.45 0.55\n",
      "\n",
      "2.6782199999999996 1.5335926255691257\n"
     ]
    }
   ],
   "source": [
    "sens_att, data_high_income, data_low_income = set_sens_att('W')\n",
    "p1, p2, data_points_theta1, data_points_theta2, mu1, mu2, cov1, cov2, cov = set_p1p2(0.45, 0.55)\n",
    "\n",
    "for i in range(mu1.shape[0]):\n",
    "    print(\"{:.2f}\".format(mu1[i]))\n",
    "print()\n",
    "for i in range(mu2.shape[0]):\n",
    "    print(\"{:.2f}\".format(mu2[i]))\n",
    "\n",
    "print()\n",
    "print(sens_att, p1, p2)\n",
    "print()\n",
    "print(np.linalg.norm(mu1 - mu2, ord=1), np.linalg.norm(mu1 - mu2, ord=2))"
   ]
  },
  {
   "cell_type": "code",
   "execution_count": 31,
   "metadata": {},
   "outputs": [
    {
     "data": {
      "image/png": "[encoded data removed]",
      "text/plain": [
       "<Figure size 432x288 with 1 Axes>"
      ]
     },
     "metadata": {
      "needs_background": "light"
     },
     "output_type": "display_data"
    }
   ],
   "source": [
    "import matplotlib.pyplot as plt\n",
    "import scipy.stats as stats\n",
    "\n",
    "fi = 0  # feature index\n",
    "data_points_theta_i = data_points_theta1\n",
    "mu_i = mu1\n",
    "cov_i = cov1\n",
    "\n",
    "# Plot the histogram.\n",
    "plt.hist(data_points_theta_i[fi], bins=25, density=True, alpha=0.6, color='g')\n",
    "\n",
    "# Plot the PDF.\n",
    "xmin, xmax = plt.xlim()\n",
    "x = np.linspace(xmin, xmax, 100)\n",
    "p = stats.norm.pdf(x, mu_i[fi], np.sqrt(cov_i[fi][fi]))\n",
    "plt.xlabel('Average Age')\n",
    "plt.ylabel(\"Relative Frequency\")\n",
    "plt.title(\"Gaussian Approximation\")\n",
    "plt.plot(x, p, 'k', linewidth=2, label='$Gauss({:.2f},{:.2f})$'.format(mu_i[fi], cov_i[fi][fi]))\n",
    "plt.legend(loc=\"upper right\")\n",
    "\n",
    "# # Plot the histogram.\n",
    "# plt.hist(data_points_theta1[feature_index], bins=25, density=True, alpha=0.6, color='g')\n",
    "\n",
    "# # Plot the PDF.\n",
    "# xmin, xmax = plt.xlim()\n",
    "# x = np.linspace(xmin, xmax, 100)\n",
    "# p = stats.norm.pdf(x, mu1[feature_index], np.sqrt(cov1[feature_index][feature_index]))\n",
    "# plt.plot(x, p, 'k', linewidth=2)\n",
    "\n",
    "# plt.show()\n",
    "\n",
    "import tikzplotlib\n",
    "tikzplotlib.save(\"a_model_age_1000_p45_income.tikz\")"
   ]
  },
  {
   "cell_type": "markdown",
   "metadata": {},
   "source": [
    "## Mechanisms"
   ]
  },
  {
   "cell_type": "code",
   "execution_count": 12,
   "metadata": {},
   "outputs": [],
   "source": [
    "# apply noise according to Laplace variant of Expected Value Mechanism (ExpM (L))\n",
    "def ev_laplace(data, eps):\n",
    "    scale = np.linalg.norm(mu1 - mu2, ord=1) / eps\n",
    "    return data + np.random.laplace(0, scale, mu1.shape)"
   ]
  },
  {
   "cell_type": "code",
   "execution_count": 13,
   "metadata": {},
   "outputs": [],
   "source": [
    "# apply noise according to Laplace variant of Directional Expected Value Mechanism (DirM (L))\n",
    "def dir_laplace(data, eps):\n",
    "    scale = np.linalg.norm(mu1 - mu2, ord=2) / eps\n",
    "    v_dir = mu1 - mu2\n",
    "    v_dir = v_dir / np.linalg.norm(v_dir)\n",
    "    return data + np.random.laplace(0, scale) * v_dir"
   ]
  },
  {
   "cell_type": "code",
   "execution_count": 14,
   "metadata": {},
   "outputs": [],
   "source": [
    "# apply noise according to Gaussian variant of Expected Value Mechanism (ExpM (G))\n",
    "def ev_gauss(data, eps, delta):\n",
    "    c = np.sqrt(2 * np.log(1.25 / delta))\n",
    "    scale = c * np.linalg.norm(mu1 - mu2) / eps\n",
    "#     print(scale)\n",
    "    return data + np.random.normal(0, scale, mu1.shape)"
   ]
  },
  {
   "cell_type": "code",
   "execution_count": 15,
   "metadata": {},
   "outputs": [],
   "source": [
    "# apply noise according to Eigenvector Gaussian Mechanism (EigM (G))\n",
    "def gauss_red(data, eps, delta):\n",
    "    ndim = data.shape[0]\n",
    "    c = np.sqrt(2 * np.log(1.25 / delta))\n",
    "    \n",
    "    # need to increase all eigenvalues to be at least this value\n",
    "    min_eigval = (c * np.linalg.norm(mu1 - mu2) / eps) ** 2\n",
    "#     print(c, min_eigval)\n",
    "    \n",
    "    eigvals, eigvecs = np.linalg.eigh(cov)\n",
    "    eigvecs = eigvecs.T\n",
    "    \n",
    "    cov_to_add = np.zeros((ndim, ndim))\n",
    "    for i in range(ndim):\n",
    "        eigval = eigvals[i]\n",
    "        eigvec = eigvecs[i]\n",
    "        if eigval < min_eigval:\n",
    "            cov_to_add += (min_eigval - eigval) * np.outer(eigvec, eigvec)\n",
    "    \n",
    "#     print(cov_to_add, min_eigval)\n",
    "    \n",
    "    return data + np.random.multivariate_normal(np.zeros(ndim), cov_to_add)"
   ]
  },
  {
   "cell_type": "code",
   "execution_count": 16,
   "metadata": {},
   "outputs": [],
   "source": [
    "# apply noise according to Directional Gaussian Mechanism with Adversarial Uncertainty (DauM (G))\n",
    "def gauss_dir(data, eps, delta):\n",
    "    ndim = data.shape[0]\n",
    "    c = np.sqrt(2 * np.log(1.25 / delta))\n",
    "    alpha = np.linalg.norm(mu1 - mu2)\n",
    "    v_dir = mu1 - mu2\n",
    "    v_dir = v_dir / np.linalg.norm(v_dir)\n",
    "    dir_to_add = np.outer(v_dir, v_dir)\n",
    "    \n",
    "    cov_cur = cov\n",
    "    sig_lo = 0\n",
    "    sig_hi = (alpha * c / eps) ** 2\n",
    "    while sig_hi > sig_lo + 0.001:\n",
    "        sig_mid = (sig_hi + sig_lo) / 2\n",
    "        eigs_new = np.linalg.eigh(cov_cur + (sig_mid - (alpha * c / eps) ** 2) * dir_to_add)\n",
    "        if (min(eigs_new[0]) > 0):\n",
    "            sig_hi = sig_mid\n",
    "        else:\n",
    "            sig_lo = sig_mid\n",
    "    \n",
    "    return data + np.random.multivariate_normal(np.zeros(ndim), sig_hi * dir_to_add)"
   ]
  },
  {
   "cell_type": "markdown",
   "metadata": {},
   "source": [
    "Baselines (GroupDP)"
   ]
  },
  {
   "cell_type": "code",
   "execution_count": 17,
   "metadata": {},
   "outputs": [
    {
     "name": "stdout",
     "output_type": "stream",
     "text": [
      "[0.73, 0.15, 1, 1, 0.98]\n",
      "3.86 1.8750466660859402\n"
     ]
    }
   ],
   "source": [
    "sens_age = (max(data_all[AGE_INDEX]) - min(data_all[AGE_INDEX])) / MINI_DATASET_SIZE\n",
    "sens_ey = (max(data_all[EDUCATION_YEARS_INDEX]) - min(data_all[EDUCATION_YEARS_INDEX])) / MINI_DATASET_SIZE\n",
    "sens_nnm = 1\n",
    "sens_nf = 1\n",
    "sens_hours = (max(data_all[HOURS_INDEX]) - min(data_all[HOURS_INDEX])) / MINI_DATASET_SIZE\n",
    "\n",
    "sens_all = [sens_age, sens_ey, sens_nnm, sens_nf, sens_hours]\n",
    "\n",
    "print(sens_all)\n",
    "\n",
    "sens_F1 = np.linalg.norm(sens_all, ord=1)\n",
    "sens_F2 = np.linalg.norm(sens_all, ord=2)\n",
    "\n",
    "print(sens_F1, sens_F2)\n",
    "\n",
    "def gdp_l(data, k, eps):\n",
    "    scale = k * sens_F1 / eps\n",
    "    return data + np.random.laplace(0, scale, mu1.shape)\n",
    "\n",
    "def gdp_g(data, k, eps, delta):\n",
    "    c = np.sqrt(2 * np.log(1.25 / delta))\n",
    "    scale = c * k * sens_F2 / eps\n",
    "    return data + np.random.normal(0, scale, mu1.shape)"
   ]
  },
  {
   "cell_type": "markdown",
   "metadata": {},
   "source": [
    "## Utility"
   ]
  },
  {
   "cell_type": "code",
   "execution_count": 127,
   "metadata": {},
   "outputs": [
    {
     "name": "stdout",
     "output_type": "stream",
     "text": [
      "[38.81 10.53 26.   33.   42.39]\n",
      "[53.9416178   4.26367658 15.13247894 35.40953523 44.80234773]\n",
      "0    38.420257\n",
      "1    10.424068\n",
      "2    27.848052\n",
      "3    34.587939\n",
      "4    42.037507\n",
      "dtype: float64\n",
      "[ 9.18451679 10.06486216 11.81060411 34.4402442  23.11169511]\n",
      "[42.58008365  4.83900925  8.34763301 20.6584414  62.17500734]\n",
      "[40.58703178 11.01299497 17.57381798 25.75979873 43.99719037]\n",
      "[29.05948114  9.55237606 25.07916105 41.13434145 38.77990241]\n",
      "[33.08522443 33.32895412 26.9647017  31.9742393  41.77687883]\n"
     ]
    }
   ],
   "source": [
    "eps = 1\n",
    "delta = 0.001\n",
    "\n",
    "data = get_data(data_high_income, data_low_income, p1)\n",
    "data_evl = ev_laplace(data, eps)\n",
    "data_dirl = dir_laplace(data, eps)\n",
    "data_evg = ev_gauss(data, eps, delta)\n",
    "data_gr = gauss_red(data, eps, delta)\n",
    "data_dir = gauss_dir(data, eps, delta)\n",
    "# data_gdp_l = gdp_l(data, MINI_DATASET_SIZE, eps)\n",
    "# data_gdp_g = gdp_g(data, MINI_DATASET_SIZE, eps, delta)\n",
    "data_gdp_l = gdp_l(data, 1, eps)\n",
    "data_gdp_g = gdp_g(data, 1, eps, delta)\n",
    "\n",
    "print(data)\n",
    "print(data_evl)\n",
    "print(data_dirl)\n",
    "print(data_evg)\n",
    "print(data_gr)\n",
    "print(data_dir)\n",
    "print(data_gdp_l)\n",
    "print(data_gdp_g)"
   ]
  },
  {
   "cell_type": "code",
   "execution_count": 128,
   "metadata": {},
   "outputs": [],
   "source": [
    "NREPS = 50\n",
    "\n",
    "def evaluate_util(eps, delta, norm_ord):\n",
    "    util_evl = []\n",
    "    util_dir_l = []\n",
    "    util_evg = []\n",
    "    util_gr = []\n",
    "    util_dir = []\n",
    "    util_gdpl = []\n",
    "    util_gdpg = []\n",
    "    \n",
    "    for _ in range(NREPS):        \n",
    "        data = get_data(data_high_income, data_low_income, p1)\n",
    "        data_evl = ev_laplace(data, eps)\n",
    "        data_dirl = dir_laplace(data, eps)\n",
    "        data_evg = ev_gauss(data, eps, delta)\n",
    "        data_gr = gauss_red(data, eps, delta)\n",
    "        data_dir = gauss_dir(data, eps, delta)\n",
    "        # data_gdp_l = gdp_l(data, MINI_DATASET_SIZE, eps)\n",
    "        # data_gdp_g = gdp_g(data, MINI_DATASET_SIZE, eps, delta)\n",
    "        data_gdp_l = gdp_l(data, 1, eps)\n",
    "        data_gdp_g = gdp_g(data, 1, eps, delta)\n",
    "        \n",
    "        util_evl.append(np.linalg.norm(data - data_evl, ord=norm_ord))\n",
    "        util_dir_l.append(np.linalg.norm(data - data_dirl, ord=norm_ord))\n",
    "        util_evg.append(np.linalg.norm(data - data_evg, ord=norm_ord))\n",
    "        util_gr.append(np.linalg.norm(data - data_gr, ord=norm_ord))\n",
    "        util_dir.append(np.linalg.norm(data - data_dir, ord=norm_ord))\n",
    "        util_gdpl.append(np.linalg.norm(data - data_gdp_l, ord=norm_ord))\n",
    "        util_gdpg.append(np.linalg.norm(data - data_gdp_g, ord=norm_ord))\n",
    "        \n",
    "    return util_evl, util_dir_l, util_evg, util_gr, util_dir, util_gdpl, util_gdpg"
   ]
  },
  {
   "cell_type": "code",
   "execution_count": 129,
   "metadata": {},
   "outputs": [],
   "source": [
    "norm_ord = 2\n",
    "a1, a2, a3, a4, a5, a6, a7 = evaluate_util(2, 0.001, norm_ord)"
   ]
  },
  {
   "cell_type": "code",
   "execution_count": 130,
   "metadata": {},
   "outputs": [
    {
     "data": {
      "text/plain": [
       "(10.125339086460102,\n",
       " 3.6542793781094383,\n",
       " 18.9961084582726,\n",
       " 18.086385453554126,\n",
       " 5.748118471777974,\n",
       " 5.5392572435900185,\n",
       " 7.960207567129832)"
      ]
     },
     "execution_count": 130,
     "metadata": {},
     "output_type": "execute_result"
    }
   ],
   "source": [
    "np.mean(a1), np.mean(a2), np.mean(a3), np.mean(a4), np.mean(a5), np.mean(a6), np.mean(a7)"
   ]
  },
  {
   "cell_type": "markdown",
   "metadata": {},
   "source": [
    "## Attack vs mechanism"
   ]
  },
  {
   "cell_type": "code",
   "execution_count": 18,
   "metadata": {},
   "outputs": [],
   "source": [
    "from sklearn.linear_model import LogisticRegression\n",
    "from sklearn.model_selection import train_test_split\n",
    "\n",
    "\n",
    "SHADOW_EVALUTATION_REPS = 50\n",
    "\n",
    "def evaluate_shadow_clf_with_mech(eps, delta):\n",
    "    accuracies_no = []\n",
    "    accuracies_evl = []\n",
    "    accuracies_dirl = []\n",
    "    accuracies_evg = []\n",
    "    accuracies_gr = []\n",
    "    accuracies_dir = []\n",
    "    accuracies_gdpl = []\n",
    "    accuracies_gdpg = []\n",
    "    \n",
    "    for i in range(SHADOW_EVALUTATION_REPS):\n",
    "\n",
    "        shadow_data_hi, test_data_hi = train_test_split(data_high_income, test_size=0.33)\n",
    "        shadow_data_lo, test_data_lo = train_test_split(data_low_income, test_size=0.33)\n",
    "        \n",
    "        features_shadow = []\n",
    "        features_test = []\n",
    "        labels_shadow = []\n",
    "        labels_test = []\n",
    "        \n",
    "        for _ in range(NUM_DATA_SHADOW):\n",
    "            features_shadow.append(get_data(shadow_data_hi, shadow_data_lo, p1))\n",
    "            labels_shadow.append(1)\n",
    "            features_shadow.append(get_data(shadow_data_hi, shadow_data_lo, p2))\n",
    "            labels_shadow.append(2)\n",
    "        \n",
    "        for _ in range(NUM_DATA_TEST):\n",
    "            features_test.append(get_data(test_data_hi, test_data_lo, p1))\n",
    "            labels_test.append(1)\n",
    "            features_test.append(get_data(test_data_hi, test_data_lo, p2))\n",
    "            labels_test.append(2)\n",
    "\n",
    "        clf = LogisticRegression().fit(features_shadow, labels_shadow)\n",
    "        \n",
    "        \n",
    "        features_test_no = []\n",
    "        features_test_evl = []\n",
    "        features_test_dirl = []\n",
    "        features_test_evg = []\n",
    "        features_test_gr = []\n",
    "        features_test_dir = []\n",
    "        features_test_gdpl = []\n",
    "        features_test_gdpg = []\n",
    "        \n",
    "        for feat in features_test:\n",
    "            features_test_no.append(feat)\n",
    "            features_test_evl.append(ev_laplace(feat, eps))\n",
    "            features_test_dirl.append(dir_laplace(feat, eps))\n",
    "            features_test_evg.append(ev_gauss(feat, eps, delta))\n",
    "            features_test_gr.append(gauss_red(feat, eps, delta))\n",
    "            features_test_dir.append(gauss_dir(feat, eps, delta))\n",
    "            \n",
    "#             k = 1\n",
    "            k = MINI_DATASET_SIZE\n",
    "            features_test_gdpl.append(gdp_l(feat, k, eps))\n",
    "            features_test_gdpg.append(gdp_g(feat, k, eps, delta))\n",
    "    \n",
    "\n",
    "        accuracies_no.append(clf.score(features_test_no, labels_test))\n",
    "        accuracies_evl.append(clf.score(features_test_evl, labels_test))\n",
    "        accuracies_dirl.append(clf.score(features_test_dirl, labels_test))\n",
    "        accuracies_evg.append(clf.score(features_test_evg, labels_test))\n",
    "        accuracies_gr.append(clf.score(features_test_gr, labels_test))\n",
    "        accuracies_dir.append(clf.score(features_test_dir, labels_test))\n",
    "        accuracies_gdpl.append(clf.score(features_test_gdpl, labels_test))\n",
    "        accuracies_gdpg.append(clf.score(features_test_gdpg, labels_test))\n",
    "\n",
    "    return accuracies_no, accuracies_evl, accuracies_dirl, accuracies_evg,\\\n",
    "        accuracies_gr, accuracies_dir, accuracies_gdpl, accuracies_gdpg"
   ]
  },
  {
   "cell_type": "code",
   "execution_count": 120,
   "metadata": {},
   "outputs": [],
   "source": [
    "a1, a2, a3, a4, a5, a6, a7, a8 = evaluate_shadow_clf_with_mech(2, 0.001)"
   ]
  },
  {
   "cell_type": "code",
   "execution_count": null,
   "metadata": {},
   "outputs": [],
   "source": [
    "np.mean(a1), np.mean(a2), np.mean(a3), np.mean(a4), np.mean(a5), np.mean(a6), np.mean(a7), np.mean(a8) "
   ]
  },
  {
   "cell_type": "code",
   "execution_count": 19,
   "metadata": {},
   "outputs": [],
   "source": [
    "sens_att, data_high_income, data_low_income = set_sens_att('I')\n",
    "p1, p2, data_points_theta1, data_points_theta2, mu1, mu2, cov1, cov2, cov = set_p1p2(0.45, 0.55)"
   ]
  },
  {
   "cell_type": "code",
   "execution_count": null,
   "metadata": {},
   "outputs": [],
   "source": [
    "NDIM = 5\n",
    "eps_values = np.logspace(-1, 1, 20)\n",
    "delt = 0.001\n",
    "defense_eps = []\n",
    "for eps in eps_values:\n",
    "    defense_eps.append(evaluate_shadow_clf_with_mech(eps, delt))\n",
    "\n",
    "acc_mech = np.array(defense_eps)\n",
    "acc_mech = np.swapaxes(acc_mech, 0, 1)\n",
    "acc_mech.shape"
   ]
  },
  {
   "cell_type": "code",
   "execution_count": null,
   "metadata": {},
   "outputs": [],
   "source": [
    "import matplotlib\n",
    "import matplotlib.pyplot as plt\n",
    "\n",
    "plt.clf()\n",
    "\n",
    "plt.plot(eps_values, np.full(len(eps_values), np.mean(acc_mech[0])), label=\"No defense\")\n",
    "# plt.plot(eps_values, np.mean(acc_mech[1], axis=1), label=\"ExpM (L)\", marker=\"o\", color=\"r\")\n",
    "# plt.plot(eps_values, np.mean(acc_mech[2], axis=1), label=\"DirM (L)\", marker=\"s\", color=\"g\")\n",
    "plt.plot(eps_values, np.mean(acc_mech[3], axis=1), label=\"ExpM (G)\", marker=\"o\", color=\"r\")\n",
    "plt.plot(eps_values, np.mean(acc_mech[4], axis=1), label=\"EigM (G)\", marker=\"^\", color=\"y\")\n",
    "plt.plot(eps_values, np.mean(acc_mech[5], axis=1), label=\"DirM (G)\", marker=\"s\", color=\"g\")\n",
    "\n",
    "# plt.plot(eps_values, np.mean(acc_mech[6], axis=1), label=\"GDP (L)\", marker=\"X\", color=\"dimgray\")\n",
    "plt.plot(eps_values, np.mean(acc_mech[7], axis=1), label=\"GDP (G)\", marker=\"X\", color=\"dimgray\")\n",
    "\n",
    "\n",
    "plt.xlabel('$\\\\epsilon$')\n",
    "plt.ylabel(\"Attack Accuracy\")\n",
    "plt.title(\"Attack Accuracies\")\n",
    "plt.legend(loc=\"center left\")\n",
    "plt.xscale(\"log\")\n",
    "# plt.show()\n",
    "# plt.savefig('figures/test.pgf')\n",
    "\n",
    "# import tikzplotlib\n",
    "# tikzplotlib.save(\"a_attack_accuracies_lap_income_p1.tikz\")"
   ]
  },
  {
   "cell_type": "code",
   "execution_count": null,
   "metadata": {},
   "outputs": [],
   "source": []
  }
 ],
 "metadata": {
  "kernelspec": {
   "display_name": "mc-cs-project",
   "language": "python",
   "name": "mc-cs-project"
  },
  "language_info": {
   "codemirror_mode": {
    "name": "ipython",
    "version": 3
   },
   "file_extension": ".py",
   "mimetype": "text/x-python",
   "name": "python",
   "nbconvert_exporter": "python",
   "pygments_lexer": "ipython3",
   "version": "3.8.3"
  }
 },
 "nbformat": 4,
 "nbformat_minor": 4
}
